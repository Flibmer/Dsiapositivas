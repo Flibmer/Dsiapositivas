{
 "cells": [
  {
   "cell_type": "markdown",
   "id": "a833d094",
   "metadata": {},
   "source": [
    "### Lista y ciclos"
   ]
  },
  {
   "cell_type": "code",
   "execution_count": 2,
   "id": "65a3a224",
   "metadata": {},
   "outputs": [
    {
     "name": "stdout",
     "output_type": "stream",
     "text": [
      "[3.0, 3.5, 4.2, 4.0]\n",
      "['miguel', 30, True, 172]\n",
      "[]\n"
     ]
    }
   ],
   "source": [
    "grades = [3.0, 3.5, 4.2, 4.0]\n",
    "presonal_data = [\"miguel\", 30, True, 172]\n",
    "task = []\n",
    "print(grades)\n",
    "print(presonal_data)\n",
    "print(task)"
   ]
  },
  {
   "cell_type": "markdown",
   "id": "4a25a09e",
   "metadata": {},
   "source": [
    "### Appened"
   ]
  },
  {
   "cell_type": "code",
   "execution_count": 3,
   "id": "c9f26d71",
   "metadata": {},
   "outputs": [
    {
     "name": "stdout",
     "output_type": "stream",
     "text": [
      "['manzanas']\n",
      "['manzanas', 'pera']\n",
      "['manzanas', 'pera', 'naranja']\n",
      "['manzanas', 'pera', 'naranja', 'banano', 'mango']\n"
     ]
    }
   ],
   "source": [
    "fruits = []\n",
    "fruits.append(\"manzanas\")\n",
    "print(fruits)\n",
    "fruits.append(\"pera\")\n",
    "print(fruits)\n",
    "fruits.append(\"naranja\")\n",
    "print(fruits)\n",
    "other_fruits = [\"banano\", \"mango\"]\n",
    "print(fruits + other_fruits)\n",
    "#print(fruits + \"piña\")"
   ]
  },
  {
   "cell_type": "markdown",
   "id": "d555155e",
   "metadata": {},
   "source": [
    "### Accediendo a Elementos"
   ]
  },
  {
   "cell_type": "code",
   "execution_count": 4,
   "id": "8c196f1e",
   "metadata": {},
   "outputs": [
    {
     "ename": "NameError",
     "evalue": "name 'all_fruits' is not defined",
     "output_type": "error",
     "traceback": [
      "\u001b[1;31m---------------------------------------------------------------------------\u001b[0m",
      "\u001b[1;31mNameError\u001b[0m                                 Traceback (most recent call last)",
      "\u001b[1;32m~\\AppData\\Local\\Temp\\ipykernel_21120\\3775449164.py\u001b[0m in \u001b[0;36m<module>\u001b[1;34m\u001b[0m\n\u001b[1;32m----> 1\u001b[1;33m \u001b[0mprint\u001b[0m\u001b[1;33m(\u001b[0m\u001b[1;34m\"lista de frutas: \"\u001b[0m \u001b[1;33m+\u001b[0m \u001b[0mstr\u001b[0m\u001b[1;33m(\u001b[0m\u001b[0mall_fruits\u001b[0m\u001b[1;33m)\u001b[0m\u001b[1;33m)\u001b[0m\u001b[1;33m\u001b[0m\u001b[1;33m\u001b[0m\u001b[0m\n\u001b[0m\u001b[0;32m      2\u001b[0m \u001b[0mprint\u001b[0m\u001b[1;33m(\u001b[0m\u001b[1;34m\"primera fruta: \"\u001b[0m \u001b[1;33m+\u001b[0m \u001b[0mall_fruits\u001b[0m\u001b[1;33m[\u001b[0m\u001b[1;36m0\u001b[0m\u001b[1;33m]\u001b[0m\u001b[1;33m)\u001b[0m\u001b[1;33m\u001b[0m\u001b[1;33m\u001b[0m\u001b[0m\n\u001b[0;32m      3\u001b[0m \u001b[0mprint\u001b[0m\u001b[1;33m(\u001b[0m\u001b[1;34m\"segunda fruta: \"\u001b[0m \u001b[1;33m+\u001b[0m \u001b[0mall_fruits\u001b[0m\u001b[1;33m[\u001b[0m\u001b[1;36m1\u001b[0m\u001b[1;33m]\u001b[0m\u001b[1;33m)\u001b[0m\u001b[1;33m\u001b[0m\u001b[1;33m\u001b[0m\u001b[0m\n\u001b[0;32m      4\u001b[0m \u001b[0mprint\u001b[0m\u001b[1;33m(\u001b[0m\u001b[1;34m\"ultima fruta: \"\u001b[0m \u001b[1;33m+\u001b[0m \u001b[0mall_fruits\u001b[0m\u001b[1;33m[\u001b[0m\u001b[1;33m-\u001b[0m\u001b[1;36m1\u001b[0m\u001b[1;33m]\u001b[0m\u001b[1;33m)\u001b[0m\u001b[1;33m\u001b[0m\u001b[1;33m\u001b[0m\u001b[0m\n\u001b[0;32m      5\u001b[0m \u001b[0mprint\u001b[0m\u001b[1;33m(\u001b[0m\u001b[1;34m\"frtua central: \"\u001b[0m \u001b[1;33m+\u001b[0m \u001b[0mall_fruits\u001b[0m\u001b[1;33m[\u001b[0m\u001b[0mint\u001b[0m\u001b[1;33m(\u001b[0m\u001b[1;36m5\u001b[0m\u001b[1;33m/\u001b[0m\u001b[1;36m2\u001b[0m\u001b[1;33m)\u001b[0m\u001b[1;33m]\u001b[0m\u001b[1;33m)\u001b[0m\u001b[1;33m\u001b[0m\u001b[1;33m\u001b[0m\u001b[0m\n",
      "\u001b[1;31mNameError\u001b[0m: name 'all_fruits' is not defined"
     ]
    }
   ],
   "source": [
    "print(\"lista de frutas: \" + str(all_fruits))\n",
    "print(\"primera fruta: \" + all_fruits[0])\n",
    "print(\"segunda fruta: \" + all_fruits[1])\n",
    "print(\"ultima fruta: \" + all_fruits[-1])\n",
    "print(\"frtua central: \" + all_fruits[int(5/2)])"
   ]
  },
  {
   "cell_type": "markdown",
   "id": "1cd7795d",
   "metadata": {},
   "source": [
    "### modificado de elementos"
   ]
  },
  {
   "cell_type": "code",
   "execution_count": 2,
   "id": "4f104fae",
   "metadata": {},
   "outputs": [
    {
     "ename": "NameError",
     "evalue": "name 'all_fruits' is not defined",
     "output_type": "error",
     "traceback": [
      "\u001b[1;31m---------------------------------------------------------------------------\u001b[0m",
      "\u001b[1;31mNameError\u001b[0m                                 Traceback (most recent call last)",
      "\u001b[1;32m~\\AppData\\Local\\Temp\\ipykernel_21120\\1320575371.py\u001b[0m in \u001b[0;36m<module>\u001b[1;34m\u001b[0m\n\u001b[1;32m----> 1\u001b[1;33m \u001b[0mprint\u001b[0m\u001b[1;33m(\u001b[0m\u001b[1;34m\"lista de frutas: \"\u001b[0m \u001b[1;33m+\u001b[0m \u001b[0mstr\u001b[0m\u001b[1;33m(\u001b[0m\u001b[0mall_fruits\u001b[0m\u001b[1;33m)\u001b[0m\u001b[1;33m)\u001b[0m\u001b[1;33m\u001b[0m\u001b[1;33m\u001b[0m\u001b[0m\n\u001b[0m\u001b[0;32m      2\u001b[0m \u001b[0mall_fruits\u001b[0m\u001b[1;33m[\u001b[0m\u001b[1;36m0\u001b[0m\u001b[1;33m]\u001b[0m \u001b[1;33m=\u001b[0m \u001b[1;34m\"piña\"\u001b[0m\u001b[1;33m\u001b[0m\u001b[1;33m\u001b[0m\u001b[0m\n\u001b[0;32m      3\u001b[0m \u001b[0mall_fruits\u001b[0m\u001b[1;33m[\u001b[0m\u001b[1;33m-\u001b[0m\u001b[1;36m1\u001b[0m\u001b[1;33m]\u001b[0m \u001b[1;33m=\u001b[0m \u001b[1;34m\"patilla\"\u001b[0m\u001b[1;33m\u001b[0m\u001b[1;33m\u001b[0m\u001b[0m\n\u001b[0;32m      4\u001b[0m \u001b[0mprint\u001b[0m\u001b[1;33m(\u001b[0m\u001b[1;34m\"lista de frutas: \"\u001b[0m \u001b[1;33m+\u001b[0m \u001b[0mstr\u001b[0m\u001b[1;33m(\u001b[0m\u001b[0mall_fruits\u001b[0m\u001b[1;33m)\u001b[0m\u001b[1;33m)\u001b[0m\u001b[1;33m\u001b[0m\u001b[1;33m\u001b[0m\u001b[0m\n",
      "\u001b[1;31mNameError\u001b[0m: name 'all_fruits' is not defined"
     ]
    }
   ],
   "source": [
    "print(\"lista de frutas: \" + str(all_fruits))\n",
    "all_fruits[0] = \"piña\"\n",
    "all_fruits[-1] = \"patilla\"\n",
    "print(\"lista de frutas: \" + str(all_fruits))"
   ]
  },
  {
   "cell_type": "code",
   "execution_count": null,
   "id": "d425889d",
   "metadata": {},
   "outputs": [],
   "source": []
  },
  {
   "cell_type": "markdown",
   "id": "292c5cf8",
   "metadata": {},
   "source": [
    "### lista 2D"
   ]
  },
  {
   "cell_type": "code",
   "execution_count": 6,
   "id": "3dd1629c",
   "metadata": {},
   "outputs": [
    {
     "name": "stdout",
     "output_type": "stream",
     "text": [
      "[['peter parker', 'spiderman'], ['tony star', 'ironman'], ['steve roger', 'captain america']]\n",
      "spiderman\n",
      "[['peter parker', 'spiderman'], ['tony star', 'ironman'], ['steve roger', 'captain america'], ['bruce banner', 'the thing']]\n",
      "[['peter parker', 'spiderman'], ['tony star', 'ironman'], ['steve roger', 'captain america'], ['bruce banner', 'hulk']]\n"
     ]
    }
   ],
   "source": [
    "peter = [\"peter parker\", \"spiderman\"]\n",
    "tony = [\"tony star\", \"ironman\"]\n",
    "cap = [\"steve roger\", \"captain america\"]\n",
    "avengers = [peter, tony, cap]\n",
    "print(avengers)\n",
    "print(avengers[0][1])\n",
    "avengers.append([\"bruce banner\", \"the thing\"])\n",
    "print(avengers)\n",
    "avengers[-1][1] = \"hulk\"\n",
    "print(avengers)"
   ]
  },
  {
   "cell_type": "markdown",
   "id": "ebb3c74e",
   "metadata": {},
   "source": [
    "### insert"
   ]
  },
  {
   "cell_type": "code",
   "execution_count": 7,
   "id": "eb2847bb",
   "metadata": {},
   "outputs": [
    {
     "name": "stdout",
     "output_type": "stream",
     "text": [
      "[['peter parker', 'spiderman'], ['tony star', 'ironman'], ['steve roger', 'captain america'], ['bruce banner', 'hulk']]\n",
      "[['peter parker', 'spiderman'], ['clint barton', 'hawkeye'], ['tony star', 'ironman'], ['steve roger', 'captain america'], ['bruce banner', 'hulk']]\n",
      "[['peter parker', 'spiderman'], ['clint barton', 'hawkeye'], ['tony star', 'ironman'], ['natasha romanoff', 'black widow'], ['steve roger', 'captain america'], ['bruce banner', 'hulk']]\n"
     ]
    }
   ],
   "source": [
    "print(avengers)\n",
    "avengers.insert(1, [\"clint barton\", \"hawkeye\"])\n",
    "print(avengers)\n",
    "avengers.insert(-2, [\"natasha romanoff\", \"black widow\"])\n",
    "print(avengers)"
   ]
  },
  {
   "cell_type": "markdown",
   "id": "ee8cc809",
   "metadata": {},
   "source": [
    "### pop"
   ]
  },
  {
   "cell_type": "code",
   "execution_count": 9,
   "id": "e8532443",
   "metadata": {},
   "outputs": [
    {
     "name": "stdout",
     "output_type": "stream",
     "text": [
      "[['peter parker', 'spiderman'], ['clint barton', 'hawkeye'], ['tony star', 'ironman'], ['natasha romanoff', 'black widow'], ['steve roger', 'captain america'], ['bruce banner', 'hulk']]\n",
      "[['peter parker', 'spiderman'], ['clint barton', 'hawkeye'], ['tony star', 'ironman'], ['natasha romanoff', 'black widow'], ['steve roger', 'captain america']]\n",
      "['tony star', 'ironman']\n",
      "[['peter parker', 'spiderman'], ['clint barton', 'hawkeye'], ['natasha romanoff', 'black widow'], ['steve roger', 'captain america']]\n"
     ]
    }
   ],
   "source": [
    "print(avengers)\n",
    "avengers.pop()\n",
    "print(avengers)\n",
    "ex_avengers = avengers.pop(2)\n",
    "print(ex_avengers)\n",
    "print(avengers)"
   ]
  },
  {
   "cell_type": "markdown",
   "id": "56491ece",
   "metadata": {},
   "source": [
    "### range y len"
   ]
  },
  {
   "cell_type": "code",
   "execution_count": 11,
   "id": "87a35d08",
   "metadata": {},
   "outputs": [
    {
     "name": "stdout",
     "output_type": "stream",
     "text": [
      "range(0, 10)\n",
      "[0, 1, 2, 3, 4, 5, 6, 7, 8, 9]\n",
      "[3, 4, 5, 6, 7]\n",
      "[1, 3, 5, 7, 9, 11, 13, 15, 17, 19]\n",
      "10\n"
     ]
    }
   ],
   "source": [
    "my_range = range(10)\n",
    "print(my_range)\n",
    "print(list(my_range))\n",
    "other_range = range(3,8)\n",
    "print(list(other_range))\n",
    "odds = list(range(1, 20, 2))\n",
    "print(odds)\n",
    "print(len(odds))"
   ]
  },
  {
   "cell_type": "markdown",
   "id": "95b29813",
   "metadata": {},
   "source": [
    "### slicing"
   ]
  },
  {
   "cell_type": "code",
   "execution_count": 16,
   "id": "be98401d",
   "metadata": {},
   "outputs": [
    {
     "name": "stdout",
     "output_type": "stream",
     "text": [
      "['b', 'c', 'd', 'e', 'f']\n",
      "['a', 'b', 'c']\n",
      "['e', 'f', 'g']\n",
      "['a', 'b', 'c', 'd', 'e']\n"
     ]
    }
   ],
   "source": [
    "letters = [\"a\",\"b\",\"c\",\"d\",\"e\",\"f\",\"g\"]\n",
    "some_letters = letters[1:6]\n",
    "print(some_letters)\n",
    "first_three = letters[:3]\n",
    "print(first_three)\n",
    "last_three = letters[-3:]\n",
    "print(last_three)\n",
    "to_the_last = letters[:-2]\n",
    "print(to_the_last)"
   ]
  },
  {
   "cell_type": "markdown",
   "id": "d8f3d08f",
   "metadata": {},
   "source": [
    "### count"
   ]
  },
  {
   "cell_type": "code",
   "execution_count": 19,
   "id": "276588b4",
   "metadata": {},
   "outputs": [
    {
     "name": "stdout",
     "output_type": "stream",
     "text": [
      "4\n",
      "0\n"
     ]
    }
   ],
   "source": [
    "mississippi = [\"m\",\"i\",\"s\",\"s\",\"i\",\"s\",\"s\",\"i\",\"p\",\"p\",\"i\"]\n",
    "num_i = mississippi.count(\"i\")\n",
    "print(num_i)\n",
    "num_x = mississippi.count(\"x\")\n",
    "print(num_x)"
   ]
  },
  {
   "cell_type": "markdown",
   "id": "265b3d7f",
   "metadata": {},
   "source": [
    "### sorting"
   ]
  },
  {
   "cell_type": "code",
   "execution_count": 23,
   "id": "954c87e8",
   "metadata": {},
   "outputs": [
    {
     "name": "stdout",
     "output_type": "stream",
     "text": [
      "['andres', 'juan', 'pablo', 'pedro', 'santiago']\n",
      "['santiago', 'pedro', 'pablo', 'juan', 'andres']\n",
      "None\n",
      "['andres', 'juan', 'pablo', 'pedro', 'santiago']\n",
      "['santiago', 'pedro', 'pablo', 'juan', 'andres']\n"
     ]
    }
   ],
   "source": [
    "names = [ \"juan\", \"pedro\", \"pablo\", \"santiago\",\"andres\"]\n",
    "names.sort()\n",
    "print(names)\n",
    "names.sort(reverse=True)\n",
    "print(names)\n",
    "x = names.sort()\n",
    "print(x)\n",
    "print(names)\n",
    "reverse_sorted_names = sorted(names, reverse=True)\n",
    "print(reverse_sorted_names)"
   ]
  },
  {
   "cell_type": "code",
   "execution_count": null,
   "id": "a13d4543",
   "metadata": {},
   "outputs": [],
   "source": []
  }
 ],
 "metadata": {
  "kernelspec": {
   "display_name": "Python 3 (ipykernel)",
   "language": "python",
   "name": "python3"
  },
  "language_info": {
   "codemirror_mode": {
    "name": "ipython",
    "version": 3
   },
   "file_extension": ".py",
   "mimetype": "text/x-python",
   "name": "python",
   "nbconvert_exporter": "python",
   "pygments_lexer": "ipython3",
   "version": "3.9.13"
  }
 },
 "nbformat": 4,
 "nbformat_minor": 5
}
