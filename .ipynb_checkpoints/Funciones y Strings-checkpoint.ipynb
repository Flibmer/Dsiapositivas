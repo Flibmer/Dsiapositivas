{
 "cells": [
  {
   "cell_type": "markdown",
   "id": "e4fd5e10",
   "metadata": {},
   "source": [
    "## Funciones"
   ]
  },
  {
   "cell_type": "code",
   "execution_count": 1,
   "id": "68d970b8",
   "metadata": {},
   "outputs": [
    {
     "name": "stdout",
     "output_type": "stream",
     "text": [
      "hola :D\n"
     ]
    }
   ],
   "source": [
    "def say_hello():\n",
    "    print('hola :D')\n",
    "    \n",
    "say_hello()"
   ]
  },
  {
   "cell_type": "markdown",
   "id": "2019e863",
   "metadata": {},
   "source": [
    "### llamado de funciones"
   ]
  },
  {
   "cell_type": "code",
   "execution_count": 4,
   "id": "a2dd6c06",
   "metadata": {},
   "outputs": [
    {
     "data": {
      "text/plain": [
       "<function __main__.say_hello()>"
      ]
     },
     "execution_count": 4,
     "metadata": {},
     "output_type": "execute_result"
    }
   ],
   "source": [
    "def say_hello():\n",
    "    print(\"hola :)\")\n",
    "    \n",
    "say_hello"
   ]
  },
  {
   "cell_type": "markdown",
   "id": "be8fe05a",
   "metadata": {},
   "source": [
    "### Parametros y argumentos"
   ]
  },
  {
   "cell_type": "code",
   "execution_count": 8,
   "id": "34ac908f",
   "metadata": {},
   "outputs": [
    {
     "name": "stdout",
     "output_type": "stream",
     "text": [
      "Hola, miguel\n"
     ]
    }
   ],
   "source": [
    "def say_hello(name):\n",
    "    print(\"Hola, \" + name)\n",
    "say_hello(\"miguel\")"
   ]
  },
  {
   "cell_type": "markdown",
   "id": "d50e5211",
   "metadata": {},
   "source": [
    "### multiples parametros"
   ]
  },
  {
   "cell_type": "code",
   "execution_count": 10,
   "id": "a1cc5380",
   "metadata": {},
   "outputs": [
    {
     "name": "stdout",
     "output_type": "stream",
     "text": [
      "hola, miguel. he escuchado que Cartagena es una ciudad muy bonita.\n"
     ]
    }
   ],
   "source": [
    "def say_hello(name, city):\n",
    "    print(\"hola, \" + name + \". he escuchado que \" + city + \" es una ciudad muy bonita.\")\n",
    "say_hello(\"miguel\",\"Cartagena\")"
   ]
  },
  {
   "cell_type": "markdown",
   "id": "c303fad3",
   "metadata": {},
   "source": [
    "### mjultilpes parametros"
   ]
  },
  {
   "cell_type": "code",
   "execution_count": 15,
   "id": "6e8060d7",
   "metadata": {},
   "outputs": [
    {
     "name": "stdout",
     "output_type": "stream",
     "text": [
      "impuesto total: $60.0\n"
     ]
    }
   ],
   "source": [
    "def calculate_tax(income, exprenses, tax):\n",
    "    print(\"impuesto total: $\" + str((income - exprenses)*tax/100))\n",
    "    \n",
    "calculate_tax(1000, 800, 30)"
   ]
  },
  {
   "cell_type": "markdown",
   "id": "883ae546",
   "metadata": {},
   "source": [
    "# tipos de argumentos"
   ]
  },
  {
   "cell_type": "code",
   "execution_count": 16,
   "id": "75d700d5",
   "metadata": {},
   "outputs": [
    {
     "name": "stdout",
     "output_type": "stream",
     "text": [
      "impuesto total: $60.0\n"
     ]
    }
   ],
   "source": [
    "# keyword: pueden ser llamados por su nombre\n",
    "def calculate_tax(income, exprenses, tax):\n",
    "    print(\"impuesto total: $\" + str((income - exprenses)*tax/100))\n",
    "    \n",
    "calculate_tax(1000, 800, 30)"
   ]
  },
  {
   "cell_type": "markdown",
   "id": "14ea400e",
   "metadata": {},
   "source": [
    "# built-in function vs user defined function"
   ]
  },
  {
   "cell_type": "markdown",
   "id": "f006233d",
   "metadata": {},
   "source": [
    "### print()\n",
    "### str()\n",
    "### len()"
   ]
  },
  {
   "cell_type": "markdown",
   "id": "8c25a34c",
   "metadata": {},
   "source": [
    "## scope"
   ]
  },
  {
   "cell_type": "code",
   "execution_count": 18,
   "id": "7c684fba",
   "metadata": {},
   "outputs": [
    {
     "name": "stdout",
     "output_type": "stream",
     "text": [
      "hola, miguel\n"
     ]
    },
    {
     "ename": "NameError",
     "evalue": "name 'name' is not defined",
     "output_type": "error",
     "traceback": [
      "\u001b[1;31m---------------------------------------------------------------------------\u001b[0m",
      "\u001b[1;31mNameError\u001b[0m                                 Traceback (most recent call last)",
      "\u001b[1;32m~\\AppData\\Local\\Temp\\ipykernel_16232\\2524605635.py\u001b[0m in \u001b[0;36m<module>\u001b[1;34m\u001b[0m\n\u001b[0;32m      4\u001b[0m \u001b[1;33m\u001b[0m\u001b[0m\n\u001b[0;32m      5\u001b[0m \u001b[0msay_hello\u001b[0m\u001b[1;33m(\u001b[0m\u001b[1;34m\"miguel\"\u001b[0m\u001b[1;33m)\u001b[0m\u001b[1;33m\u001b[0m\u001b[1;33m\u001b[0m\u001b[0m\n\u001b[1;32m----> 6\u001b[1;33m \u001b[0mprint\u001b[0m\u001b[1;33m(\u001b[0m\u001b[0mname\u001b[0m\u001b[1;33m)\u001b[0m\u001b[1;33m\u001b[0m\u001b[1;33m\u001b[0m\u001b[0m\n\u001b[0m",
      "\u001b[1;31mNameError\u001b[0m: name 'name' is not defined"
     ]
    }
   ],
   "source": [
    "#parte de un programa al que podemos acceder\n",
    "def say_hello(name):\n",
    "    print(\"hola, \" + name)\n",
    "\n",
    "say_hello(\"miguel\")\n",
    "print(name)\n",
    "# name no esta definido"
   ]
  },
  {
   "cell_type": "markdown",
   "id": "9c8c6a51",
   "metadata": {},
   "source": [
    "### return"
   ]
  },
  {
   "cell_type": "code",
   "execution_count": 20,
   "id": "81c59c2a",
   "metadata": {},
   "outputs": [
    {
     "name": "stdout",
     "output_type": "stream",
     "text": [
      "en estos momentos tengo $245.81\n"
     ]
    }
   ],
   "source": [
    "def calculate_dollars(colombian_peso, exchange_rate):\n",
    "    return round(colombian_peso/exchange_rate, 2)\n",
    "\n",
    "my_money = 1000000\n",
    "usd_to_cop = 4068.17\n",
    "my_money_in_dollars = calculate_dollars(my_money, usd_to_cop)\n",
    "print(\"en estos momentos tengo $\" + str(my_money_in_dollars))"
   ]
  },
  {
   "cell_type": "markdown",
   "id": "56415529",
   "metadata": {},
   "source": [
    "### multiples return"
   ]
  },
  {
   "cell_type": "code",
   "execution_count": 1,
   "id": "2b34db51",
   "metadata": {},
   "outputs": [
    {
     "name": "stdout",
     "output_type": "stream",
     "text": [
      "Mi primer numero aleatorio es ... 1\n",
      "Mi segundo numero aleatorio es... 20\n",
      "Mi tercero numero aleatorio es... 24\n"
     ]
    }
   ],
   "source": [
    "import random\n",
    "def random_attempts():\n",
    "    rand_1 = random.randint(1,10)\n",
    "    rand_2 = random.randint(11,20)\n",
    "    rand_3 = random.randint(21,30)\n",
    "    return rand_1, rand_2, rand_3\n",
    "\n",
    "resp_1, resp_2, resp_3 = random_attempts()\n",
    "print(\"Mi primer numero aleatorio es ... \" + str(resp_1))\n",
    "print(\"Mi segundo numero aleatorio es... \" + str(resp_2))\n",
    "print(\"Mi tercero numero aleatorio es... \" + str(resp_3))"
   ]
  },
  {
   "cell_type": "markdown",
   "id": "3847490e",
   "metadata": {},
   "source": [
    "### Listas"
   ]
  },
  {
   "cell_type": "code",
   "execution_count": 2,
   "id": "0746b704",
   "metadata": {},
   "outputs": [
    {
     "name": "stdout",
     "output_type": "stream",
     "text": [
      "s\n",
      "erendi\n",
      "pit\n",
      "y\n"
     ]
    }
   ],
   "source": [
    "word = \"serendipity\"\n",
    "print(word[0])\n",
    "print(word[1:-4])\n",
    "print(word[-4:-1])\n",
    "print(word[-1])"
   ]
  },
  {
   "cell_type": "markdown",
   "id": "54925ee8",
   "metadata": {},
   "source": [
    "### concatenation y lengt"
   ]
  },
  {
   "cell_type": "code",
   "execution_count": 5,
   "id": "418afe1e",
   "metadata": {},
   "outputs": [
    {
     "name": "stdout",
     "output_type": "stream",
     "text": [
      "Seb Saenz\n",
      "3\n",
      "5\n",
      "9\n"
     ]
    }
   ],
   "source": [
    "name = \"Seb\"\n",
    "lastname = \"Saenz\"\n",
    "fullname = name + \" \" + lastname\n",
    "print(fullname)\n",
    "print(len(name))\n",
    "print(len(lastname))\n",
    "print(len(fullname))"
   ]
  },
  {
   "cell_type": "markdown",
   "id": "c12fa41a",
   "metadata": {},
   "source": [
    "### Strings son inmutables"
   ]
  },
  {
   "cell_type": "code",
   "execution_count": 6,
   "id": "bd4b42db",
   "metadata": {},
   "outputs": [
    {
     "ename": "TypeError",
     "evalue": "'str' object does not support item assignment",
     "output_type": "error",
     "traceback": [
      "\u001b[1;31m---------------------------------------------------------------------------\u001b[0m",
      "\u001b[1;31mTypeError\u001b[0m                                 Traceback (most recent call last)",
      "\u001b[1;32m~\\AppData\\Local\\Temp\\ipykernel_30600\\4145471363.py\u001b[0m in \u001b[0;36m<module>\u001b[1;34m\u001b[0m\n\u001b[1;32m----> 1\u001b[1;33m \u001b[0mname\u001b[0m\u001b[1;33m[\u001b[0m\u001b[1;36m0\u001b[0m\u001b[1;33m]\u001b[0m \u001b[1;33m=\u001b[0m \u001b[1;34m'n'\u001b[0m\u001b[1;33m\u001b[0m\u001b[1;33m\u001b[0m\u001b[0m\n\u001b[0m\u001b[0;32m      2\u001b[0m \u001b[1;31m# NO SE PUEDE CAMBIAR\u001b[0m\u001b[1;33m\u001b[0m\u001b[1;33m\u001b[0m\u001b[0m\n",
      "\u001b[1;31mTypeError\u001b[0m: 'str' object does not support item assignment"
     ]
    }
   ],
   "source": [
    "name[0] = 'n'\n",
    "# NO SE PUEDE CAMBIAR"
   ]
  },
  {
   "cell_type": "markdown",
   "id": "de1a51a0",
   "metadata": {},
   "source": [
    "### Escapa characters"
   ]
  },
  {
   "cell_type": "code",
   "execution_count": 12,
   "id": "a14a6dd2",
   "metadata": {},
   "outputs": [
    {
     "name": "stdout",
     "output_type": "stream",
     "text": [
      "eso es XDN't\"\n"
     ]
    }
   ],
   "source": [
    "print(\"eso es XDN't\\\"\")"
   ]
  },
  {
   "cell_type": "markdown",
   "id": "952a3f10",
   "metadata": {},
   "source": [
    "### Iterando a travez de string"
   ]
  },
  {
   "cell_type": "code",
   "execution_count": 13,
   "id": "3c8b7f05",
   "metadata": {},
   "outputs": [
    {
     "name": "stdout",
     "output_type": "stream",
     "text": [
      "B\n",
      "a\n",
      "t\n",
      "m\n",
      "a\n",
      "n\n"
     ]
    }
   ],
   "source": [
    "word = \"Batman\"\n",
    "for letter in word:\n",
    "    print(letter)"
   ]
  },
  {
   "cell_type": "markdown",
   "id": "281ded88",
   "metadata": {},
   "source": [
    "### string y cindicionales "
   ]
  },
  {
   "cell_type": "code",
   "execution_count": 18,
   "id": "86897e2f",
   "metadata": {},
   "outputs": [
    {
     "name": "stdout",
     "output_type": "stream",
     "text": [
      "2\n",
      "otro heroe\n"
     ]
    }
   ],
   "source": [
    "word = \"batMan\"\n",
    "a_s = 0\n",
    "for letter in word: \n",
    "    if letter == 'a':\n",
    "        a_s += 1\n",
    "print(a_s)\n",
    "if 'man' in word:\n",
    "    print(\"Encontramos un emcapuchado\")\n",
    "if 'Man' in word:\n",
    "    print(\"otro heroe\")"
   ]
  },
  {
   "cell_type": "markdown",
   "id": "62d67ef2",
   "metadata": {},
   "source": [
    "## metodos string\n",
    "### Metodo de formato"
   ]
  },
  {
   "cell_type": "code",
   "execution_count": 22,
   "id": "b544de92",
   "metadata": {},
   "outputs": [
    {
     "name": "stdout",
     "output_type": "stream",
     "text": [
      "¡may the force with you!\n",
      "¡May The Force With You!\n",
      "¡MAY THE FORCE WITH YOU!\n"
     ]
    }
   ],
   "source": [
    "sentence = \"¡May ThE FORCE With YoU!\"\n",
    "sentence_lower = sentence.lower() # todo en minuscula \n",
    "sentence_upper = sentence.upper() # mayuscula en las iniciales\n",
    "sentence_title = sentence.title() # todo mayuscula\n",
    "print(sentence_lower)\n",
    "print(sentence_title)\n",
    "print(sentence_upper)\n"
   ]
  },
  {
   "cell_type": "code",
   "execution_count": null,
   "id": "68f08443",
   "metadata": {},
   "outputs": [],
   "source": []
  }
 ],
 "metadata": {
  "kernelspec": {
   "display_name": "Python 3 (ipykernel)",
   "language": "python",
   "name": "python3"
  },
  "language_info": {
   "codemirror_mode": {
    "name": "ipython",
    "version": 3
   },
   "file_extension": ".py",
   "mimetype": "text/x-python",
   "name": "python",
   "nbconvert_exporter": "python",
   "pygments_lexer": "ipython3",
   "version": "3.9.13"
  }
 },
 "nbformat": 4,
 "nbformat_minor": 5
}
