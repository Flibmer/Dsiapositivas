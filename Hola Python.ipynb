{
 "cells": [
  {
   "cell_type": "markdown",
   "id": "90c51858",
   "metadata": {},
   "source": [
    "## print"
   ]
  },
  {
   "cell_type": "code",
   "execution_count": 1,
   "id": "a13e1e87",
   "metadata": {},
   "outputs": [
    {
     "name": "stdout",
     "output_type": "stream",
     "text": [
      "Mi nombre es frailejon...\n"
     ]
    }
   ],
   "source": [
    "print(\"Mi nombre es frailejon...\")"
   ]
  },
  {
   "cell_type": "markdown",
   "id": "0305981f",
   "metadata": {},
   "source": [
    "### variables"
   ]
  },
  {
   "cell_type": "code",
   "execution_count": 4,
   "id": "90e4787e",
   "metadata": {},
   "outputs": [
    {
     "name": "stdout",
     "output_type": "stream",
     "text": [
      "hola mi nombre es\n",
      "frailejon ernesto peres\n"
     ]
    }
   ],
   "source": [
    "greeting = \"hola mi nombre es\"\n",
    "my_name = \"frailejon ernesto peres\"\n",
    "print(greeting)\n",
    "print(my_name)"
   ]
  },
  {
   "cell_type": "markdown",
   "id": "91bdc1cc",
   "metadata": {},
   "source": [
    "### numeros"
   ]
  },
  {
   "cell_type": "code",
   "execution_count": 6,
   "id": "467f9d4a",
   "metadata": {},
   "outputs": [
    {
     "name": "stdout",
     "output_type": "stream",
     "text": [
      "7.5\n"
     ]
    }
   ],
   "source": [
    "an_int = 3 # int, entero\n",
    "a_float = 4.5 # floar no entero :v\n",
    "print(an_int + a_float)"
   ]
  },
  {
   "cell_type": "markdown",
   "id": "75d2ae6d",
   "metadata": {},
   "source": [
    "### calculos"
   ]
  },
  {
   "cell_type": "code",
   "execution_count": 10,
   "id": "3208fb5c",
   "metadata": {},
   "outputs": [
    {
     "name": "stdout",
     "output_type": "stream",
     "text": [
      "392\n",
      "204.0\n",
      "15.0\n"
     ]
    }
   ],
   "source": [
    "print(365 + 40 - 13)\n",
    "print(24*8.5)\n",
    "print(60/4)"
   ]
  },
  {
   "cell_type": "markdown",
   "id": "43d0cb08",
   "metadata": {},
   "source": [
    "### cambiar numeros"
   ]
  },
  {
   "cell_type": "code",
   "execution_count": 13,
   "id": "273b42bc",
   "metadata": {},
   "outputs": [
    {
     "name": "stdout",
     "output_type": "stream",
     "text": [
      "6600\n",
      "6900\n"
     ]
    }
   ],
   "source": [
    "empanada_price = 2200\n",
    "number_of_empanada = 3\n",
    "print(empanada_price*number_of_empanada)\n",
    "# Updating the trice\n",
    "empanada_price = 2300\n",
    "print(empanada_price*number_of_empanada)"
   ]
  },
  {
   "cell_type": "markdown",
   "id": "c2d0d339",
   "metadata": {},
   "source": [
    "### exponentes"
   ]
  },
  {
   "cell_type": "code",
   "execution_count": 16,
   "id": "1e5449c5",
   "metadata": {},
   "outputs": [
    {
     "name": "stdout",
     "output_type": "stream",
     "text": [
      "8\n",
      "1.7320508075688772\n"
     ]
    }
   ],
   "source": [
    "print(2**3)\n",
    "print(3**0.5)"
   ]
  },
  {
   "cell_type": "markdown",
   "id": "7616defd",
   "metadata": {},
   "source": [
    "### modulo"
   ]
  },
  {
   "cell_type": "code",
   "execution_count": 17,
   "id": "ca7ff6b7",
   "metadata": {},
   "outputs": [
    {
     "name": "stdout",
     "output_type": "stream",
     "text": [
      "2\n",
      "3\n"
     ]
    }
   ],
   "source": [
    "print(14%6)\n",
    "print(99%8)"
   ]
  },
  {
   "cell_type": "markdown",
   "id": "27234fa9",
   "metadata": {},
   "source": [
    "### concatenacion"
   ]
  },
  {
   "cell_type": "code",
   "execution_count": 21,
   "id": "28669a5c",
   "metadata": {},
   "outputs": [
    {
     "name": "stdout",
     "output_type": "stream",
     "text": [
      "mi nombre es frailejon ernesto perez  tengo 150 años \n",
      "mi nombre es  frailejon ernesto perez   tengo  150  años \n"
     ]
    }
   ],
   "source": [
    "greeting = \"mi nombre es \"\n",
    "my_name = \"frailejon ernesto perez \"\n",
    "compl_1 = \" tengo \"\n",
    "age = 150\n",
    "compl_2 =\" años \"\n",
    "print(greeting + my_name + compl_1 + str(age) + compl_2)\n",
    "print(greeting, my_name, compl_1, age, compl_2)"
   ]
  },
  {
   "cell_type": "markdown",
   "id": "faabb8d6",
   "metadata": {},
   "source": [
    "### +-"
   ]
  },
  {
   "cell_type": "code",
   "execution_count": 23,
   "id": "5c381f0b",
   "metadata": {},
   "outputs": [
    {
     "name": "stdout",
     "output_type": "stream",
     "text": [
      "6600\n",
      "6900\n"
     ]
    }
   ],
   "source": [
    "empanada_price = 2200\n",
    "number_of_empanada = 3\n",
    "print(empanada_price*number_of_empanada)\n",
    "# Updating the trice\n",
    "empanada_price = 2300\n",
    "print(empanada_price*number_of_empanada)"
   ]
  },
  {
   "cell_type": "code",
   "execution_count": 25,
   "id": "1c0f8b06",
   "metadata": {},
   "outputs": [
    {
     "name": "stdout",
     "output_type": "stream",
     "text": [
      "con el viejo ernesto!#LOL\n"
     ]
    }
   ],
   "source": [
    "photo_caption = \"con el viejo ernesto!\"\n",
    "photo_caption += \"#LOL\"\n",
    "print(photo_caption)"
   ]
  },
  {
   "cell_type": "markdown",
   "id": "411f3782",
   "metadata": {},
   "source": [
    "### multy-line string"
   ]
  },
  {
   "cell_type": "code",
   "execution_count": 27,
   "id": "0a0c6756",
   "metadata": {},
   "outputs": [
    {
     "name": "stdout",
     "output_type": "stream",
     "text": [
      "\n",
      "Me gustas cuando callas porque estás como ausente,\n",
      "y me oyes desde lejos, y mi voz no te toca,\n",
      "parece que los ojos se te hubieran volado\n",
      "y parece que un beso te cerraria la voca.\n",
      "\n"
     ]
    }
   ],
   "source": [
    "poem = \"\"\"\n",
    "Me gustas cuando callas porque estás como ausente,\n",
    "y me oyes desde lejos, y mi voz no te toca,\n",
    "parece que los ojos se te hubieran volado\n",
    "y parece que un beso te cerraria la voca.\n",
    "\"\"\"\n",
    "print(poem)"
   ]
  },
  {
   "cell_type": "markdown",
   "id": "bfc32548",
   "metadata": {},
   "source": [
    "## expresiones boleanas"
   ]
  },
  {
   "cell_type": "code",
   "execution_count": 30,
   "id": "2b525f34",
   "metadata": {},
   "outputs": [
    {
     "name": "stdout",
     "output_type": "stream",
     "text": [
      "False\n",
      "True\n",
      "False\n",
      "False\n",
      "True\n",
      "True\n",
      "False\n"
     ]
    }
   ],
   "source": [
    "print(1 == 0)\n",
    "print(2 != 3)\n",
    "print('9' == 9)\n",
    "print(3 > 5)\n",
    "print(4 >= 2)\n",
    "print(15 <= 25)\n",
    "print(30 <= 0)"
   ]
  },
  {
   "cell_type": "markdown",
   "id": "60049f6f",
   "metadata": {},
   "source": [
    "### sentencias if"
   ]
  },
  {
   "cell_type": "code",
   "execution_count": 33,
   "id": "b3b01ea9",
   "metadata": {},
   "outputs": [
    {
     "name": "stdout",
     "output_type": "stream",
     "text": [
      "El primer dia de la semana\n",
      "Mayor de edad\n"
     ]
    }
   ],
   "source": [
    "day = \"lunes\"\n",
    "if day == \"lunes\":\n",
    "    print(\"El primer dia de la semana\")\n",
    "    \n",
    "age = 21\n",
    "if age >= 18:\n",
    "    print(\"Mayor de edad\")"
   ]
  },
  {
   "cell_type": "markdown",
   "id": "2fe91d11",
   "metadata": {},
   "source": [
    "### operadores boleanos"
   ]
  },
  {
   "cell_type": "code",
   "execution_count": 5,
   "id": "44990b57",
   "metadata": {},
   "outputs": [
    {
     "name": "stdout",
     "output_type": "stream",
     "text": [
      "False\n",
      "False\n",
      "True\n",
      "False\n",
      "True\n",
      "True\n"
     ]
    }
   ],
   "source": [
    "# and\n",
    "print((4 > 5) and (7 != 3))\n",
    "print((4 == 3) and (5 + 1 == 1))\n",
    "# or\n",
    "print(True or (3 + 4 == 7))\n",
    "print((3 == 8) or (3 > 4))\n",
    "# not\n",
    "print(not (3 > 5))\n",
    "print(True and not (3 > 5))"
   ]
  },
  {
   "cell_type": "markdown",
   "id": "05e384b8",
   "metadata": {},
   "source": [
    "### sentencias Else"
   ]
  },
  {
   "cell_type": "code",
   "execution_count": 6,
   "id": "dac8faf0",
   "metadata": {},
   "outputs": [
    {
     "name": "stdout",
     "output_type": "stream",
     "text": [
      "acceso autorizado\n"
     ]
    }
   ],
   "source": [
    "role = \"admin\"\n",
    "if role == 'admin':\n",
    "    print(\"acceso autorizado\")\n",
    "else: \n",
    "        print(\"acceso denegado\")"
   ]
  },
  {
   "cell_type": "markdown",
   "id": "e962a9e6",
   "metadata": {},
   "source": [
    "### sentencias Elif"
   ]
  },
  {
   "cell_type": "code",
   "execution_count": 8,
   "id": "fd3376db",
   "metadata": {},
   "outputs": [
    {
     "name": "stdout",
     "output_type": "stream",
     "text": [
      "bien\n"
     ]
    }
   ],
   "source": [
    "score = 65\n",
    "if score > 90:\n",
    "    print(\"!excelente¡\")\n",
    "elif score > 60:\n",
    "    print(\"bien\")\n",
    "else:\n",
    "    print(\"puede mejorar...\")"
   ]
  },
  {
   "cell_type": "markdown",
   "id": "c82db8e8",
   "metadata": {},
   "source": [
    "### entrada de usuario"
   ]
  },
  {
   "cell_type": "code",
   "execution_count": 9,
   "id": "f9016158",
   "metadata": {},
   "outputs": [
    {
     "name": "stdout",
     "output_type": "stream",
     "text": [
      "Cuantos años tienes?30\n",
      "Tu edad es 30años\n"
     ]
    }
   ],
   "source": [
    "user_age = input(\"Cuantos años tienes?\")\n",
    "print(\"Tu edad es \" + user_age + \"años\")"
   ]
  },
  {
   "cell_type": "markdown",
   "id": "c1712a00",
   "metadata": {},
   "source": [
    "## Ejercicios"
   ]
  },
  {
   "cell_type": "code",
   "execution_count": null,
   "id": "564e157b",
   "metadata": {},
   "outputs": [],
   "source": []
  },
  {
   "cell_type": "code",
   "execution_count": null,
   "id": "f485ded2",
   "metadata": {},
   "outputs": [],
   "source": []
  }
 ],
 "metadata": {
  "kernelspec": {
   "display_name": "Python 3 (ipykernel)",
   "language": "python",
   "name": "python3"
  },
  "language_info": {
   "codemirror_mode": {
    "name": "ipython",
    "version": 3
   },
   "file_extension": ".py",
   "mimetype": "text/x-python",
   "name": "python",
   "nbconvert_exporter": "python",
   "pygments_lexer": "ipython3",
   "version": "3.9.13"
  }
 },
 "nbformat": 4,
 "nbformat_minor": 5
}
