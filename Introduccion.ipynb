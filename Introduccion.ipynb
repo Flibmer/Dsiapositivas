{
 "cells": [
  {
   "cell_type": "markdown",
   "id": "b0c2e20f",
   "metadata": {},
   "source": [
    "# introduccion"
   ]
  },
  {
   "cell_type": "code",
   "execution_count": 1,
   "id": "129f24cc",
   "metadata": {},
   "outputs": [
    {
     "name": "stdout",
     "output_type": "stream",
     "text": [
      "Hola, Python\n"
     ]
    }
   ],
   "source": [
    "print (\"Hola, Python\")"
   ]
  },
  {
   "cell_type": "code",
   "execution_count": 2,
   "id": "39cff399",
   "metadata": {},
   "outputs": [],
   "source": [
    "x = 2\n",
    "y = 3"
   ]
  },
  {
   "cell_type": "code",
   "execution_count": 3,
   "id": "73b1632c",
   "metadata": {},
   "outputs": [
    {
     "data": {
      "text/plain": [
       "5"
      ]
     },
     "execution_count": 3,
     "metadata": {},
     "output_type": "execute_result"
    }
   ],
   "source": [
    "x + y "
   ]
  },
  {
   "cell_type": "code",
   "execution_count": 4,
   "id": "352d310f",
   "metadata": {},
   "outputs": [
    {
     "name": "stdout",
     "output_type": "stream",
     "text": [
      "5\n"
     ]
    },
    {
     "data": {
      "text/plain": [
       "-1"
      ]
     },
     "execution_count": 4,
     "metadata": {},
     "output_type": "execute_result"
    }
   ],
   "source": [
    "print( x + y)\n",
    "x - y "
   ]
  },
  {
   "cell_type": "code",
   "execution_count": 5,
   "id": "d7bee8fb",
   "metadata": {},
   "outputs": [
    {
     "ename": "SyntaxError",
     "evalue": "invalid syntax (974082753.py, line 3)",
     "output_type": "error",
     "traceback": [
      "\u001b[1;36m  File \u001b[1;32m\"C:\\Users\\seanz\\AppData\\Local\\Temp\\ipykernel_21860\\974082753.py\"\u001b[1;36m, line \u001b[1;32m3\u001b[0m\n\u001b[1;33m    pd.\u001b[0m\n\u001b[1;37m       ^\u001b[0m\n\u001b[1;31mSyntaxError\u001b[0m\u001b[1;31m:\u001b[0m invalid syntax\n"
     ]
    }
   ],
   "source": [
    "# ayudas con tab\n",
    "import pandas as pd\n",
    "pd."
   ]
  },
  {
   "cell_type": "code",
   "execution_count": 6,
   "id": "9951454d",
   "metadata": {},
   "outputs": [],
   "source": [
    "# shift + tab\n",
    "import pandas as pd\n",
    "my_list = [3,1,9]\n",
    "pd.DataFrame(my_list)\n",
    "my_list.sort()"
   ]
  },
  {
   "cell_type": "code",
   "execution_count": null,
   "id": "1ca37478",
   "metadata": {},
   "outputs": [],
   "source": []
  }
 ],
 "metadata": {
  "kernelspec": {
   "display_name": "Python 3 (ipykernel)",
   "language": "python",
   "name": "python3"
  },
  "language_info": {
   "codemirror_mode": {
    "name": "ipython",
    "version": 3
   },
   "file_extension": ".py",
   "mimetype": "text/x-python",
   "name": "python",
   "nbconvert_exporter": "python",
   "pygments_lexer": "ipython3",
   "version": "3.9.13"
  }
 },
 "nbformat": 4,
 "nbformat_minor": 5
}
